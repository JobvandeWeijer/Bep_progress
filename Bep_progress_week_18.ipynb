{
 "cells": [
  {
   "cell_type": "markdown",
   "id": "2593e964",
   "metadata": {},
   "source": [
    "## Installing ubuntu 8"
   ]
  },
  {
   "cell_type": "markdown",
   "id": "2d09dd7c",
   "metadata": {},
   "source": [
    "It was tried to install the ubuntu 8 version. However it was not able to install ubuntu versions older than 14. These wouldn't start from the usb boot. Therefore, it was tried to simulate an old computer from the bios. However, this didn't work also. Erjen requested to install ubuntu via systemrescue. But I'm not aware how to install it from the file. Erjen will help with this on monday."
   ]
  },
  {
   "cell_type": "markdown",
   "id": "13a7e13b",
   "metadata": {},
   "source": [
    "## ROS system"
   ]
  },
  {
   "cell_type": "markdown",
   "id": "6cbd546d",
   "metadata": {},
   "source": [
    "A PHD'er from the truck setup that is located next to epuck system, came up on friday. He suggested that it's also a possible solution to use ROS. This is a cross-colaboration platform. This is used in the truck setup. I've hadn't much time in the weekend to investigate this solution and if it's even possible with the old camera. But what I got from the explanation that he gave is that it's possible to get the information of the camera directly linked with matlab via the old computer or via windows on a newer computer and use ROS to cross compile it with the information of what movements the robot should make via linux on the new computer and mix it together. However, I'm not fully understanding of how it communicates with each other and if it is a possible solution. If it is, I'm not sure I will try it anymore (with the ticking time) but use it as a recommendation option in the report.  "
   ]
  }
 ],
 "metadata": {
  "kernelspec": {
   "display_name": "Python 3 (ipykernel)",
   "language": "python",
   "name": "python3"
  },
  "language_info": {
   "codemirror_mode": {
    "name": "ipython",
    "version": 3
   },
   "file_extension": ".py",
   "mimetype": "text/x-python",
   "name": "python",
   "nbconvert_exporter": "python",
   "pygments_lexer": "ipython3",
   "version": "3.9.7"
  }
 },
 "nbformat": 4,
 "nbformat_minor": 5
}
